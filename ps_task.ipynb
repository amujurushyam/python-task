{
 "cells": [
  {
   "cell_type": "code",
   "execution_count": 1,
   "id": "2f05e408-a2fa-4f31-b327-e5b5f2420e36",
   "metadata": {},
   "outputs": [
    {
     "name": "stdout",
     "output_type": "stream",
     "text": [
      "[{'Vamsi': {'V': 1, 'a': 1, 'm': 1, 's': 1, 'i': 1}}, {'Varsha': {'V': 1, 'a': 2, 'r': 1, 's': 1, 'h': 1}}, {'Shyam': {'S': 1, 'h': 1, 'y': 1, 'a': 1, 'm': 1}}]\n"
     ]
    }
   ],
   "source": [
    "list = [\"Vamsi\",\"Varsha\",\"Shyam\"]\n",
    "\n",
    "final_res = []\n",
    "for str in list:\n",
    "    res = {}\n",
    "    for k in str:\n",
    "        if k in res:\n",
    "            res[k] += 1\n",
    "        else:\n",
    "            res[k] = 1\n",
    "    final_res.append({str:res})\n",
    "print(final_res)"
   ]
  },
  {
   "cell_type": "code",
   "execution_count": 5,
   "id": "d2bf0198-c672-4885-b61f-458b86425650",
   "metadata": {},
   "outputs": [
    {
     "name": "stdout",
     "output_type": "stream",
     "text": [
      "1\n",
      "2\n",
      "3\n",
      "4\n",
      "5\n",
      "6\n",
      "7\n",
      "Analytics\n"
     ]
    }
   ],
   "source": [
    "for i in range (1,8):\n",
    " print(i)\n",
    "print(\"Analytics\")"
   ]
  },
  {
   "cell_type": "code",
   "execution_count": 7,
   "id": "5f747ec8-a0b0-4624-a34f-ad1691f03f21",
   "metadata": {},
   "outputs": [
    {
     "name": "stdout",
     "output_type": "stream",
     "text": [
      "hello shyam\n"
     ]
    }
   ],
   "source": [
    "def say_hii():\n",
    "    print(\"hello shyam\")\n",
    "say_hii()"
   ]
  },
  {
   "cell_type": "code",
   "execution_count": 1,
   "id": "ec985f69-4edc-481d-b87b-beae42dcb09e",
   "metadata": {},
   "outputs": [
    {
     "name": "stdout",
     "output_type": "stream",
     "text": [
      "Duplicate elements: [1, 2, 3]\n"
     ]
    }
   ],
   "source": [
    "def find_duplicates(lst):\n",
    "    # Create an empty set to store seen elements\n",
    "    seen = set()\n",
    "    # Create an empty set to store duplicates\n",
    "    duplicates = set()\n",
    "    \n",
    "    # Iterate through each element in the list\n",
    "    for item in lst:\n",
    "        # If the item is already in the 'seen' set, add it to the 'duplicates' set\n",
    "        if item in seen:\n",
    "            duplicates.add(item)\n",
    "        else:\n",
    "            # Otherwise, add the item to the 'seen' set\n",
    "            seen.add(item)\n",
    "    \n",
    "    return list(duplicates)\n",
    "\n",
    "# Example usage\n",
    "my_list = [1, 2, 3, 4, 5, 2, 3, 6, 7, 8, 1]\n",
    "print(\"Duplicate elements:\", find_duplicates(my_list))\n"
   ]
  },
  {
   "cell_type": "code",
   "execution_count": 3,
   "id": "c4fe0ad8-03b1-485d-b323-58f48524e35a",
   "metadata": {},
   "outputs": [
    {
     "name": "stdout",
     "output_type": "stream",
     "text": [
      "Unique elements: [1, 2, 3, 4, 5, 6, 7, 8]\n"
     ]
    }
   ],
   "source": [
    "def find_unique_elements(lst):\n",
    "    # Create a set to store unique elements\n",
    "    unique_elements = set()\n",
    "    \n",
    "    # Iterate through each element in the list\n",
    "    for item in lst:\n",
    "        # Add the item to the set\n",
    "        unique_elements.add(item)\n",
    "    \n",
    "    # Convert the set back to a list to return\n",
    "    return list(unique_elements)\n",
    "\n",
    "# Example usage\n",
    "my_list = [1, 2, 3, 4, 5, 2, 3, 6, 7, 8, 1]\n",
    "print(\"Unique elements:\", find_unique_elements(my_list))\n"
   ]
  },
  {
   "cell_type": "code",
   "execution_count": 1,
   "id": "4ab4bc39-53ba-459e-bcc6-2c5a675469a5",
   "metadata": {},
   "outputs": [
    {
     "name": "stdout",
     "output_type": "stream",
     "text": [
      "Not found\n"
     ]
    }
   ],
   "source": [
    "search_element = int(input(\"Enter a number :\"))\n",
    "list1 = [1 , 2, 10, 32, 75, 89, 100]\n",
    "\n",
    "def binary_search(list1, search_element):\n",
    "    low = 0\n",
    "    high = len(list1) - 1\n",
    "    while low <= high:\n",
    "        mid = int((low + high)/ 2)\n",
    "        if list1[mid] == search_element:\n",
    "            return mid\n",
    "        elif list1[mid] > search_element:\n",
    "            high = mid - 1\n",
    "        else:\n",
    "            low = mid + 1\n",
    "    return -1\n",
    "\n",
    "list2 = [1 , 2, 10, 32, 75, 89, 100]\n",
    "\n",
    "res = binary_search(list2, search_element)\n",
    "\n",
    "if res != -1:\n",
    "    print(res)\n",
    "else:\n",
    "    print(\"Not found\") "
   ]
  },
  {
   "cell_type": "code",
   "execution_count": 2,
   "id": "62b81a73",
   "metadata": {},
   "outputs": [
    {
     "name": "stdout",
     "output_type": "stream",
     "text": [
      "5\n"
     ]
    }
   ],
   "source": [
    "# binary search -- it can be performed only on a sorted list\n",
    "\n",
    "search_element = int(input(\"Enter a number :\"))\n",
    "list1 = [1 , 2, 10, 32, 75, 89, 100]\n",
    "low = 0\n",
    "high = len(list1) - 1\n",
    "\n",
    "\n",
    "flag = False\n",
    "while low <= high:\n",
    "    mid = int((low + high)/ 2)\n",
    "    if list1[mid] == search_element:\n",
    "        flag = True\n",
    "        print(mid)\n",
    "        break\n",
    "    elif list1[mid] > search_element:\n",
    "        high = mid - 1\n",
    "    else:\n",
    "        low = mid + 1\n",
    "\n",
    "\n",
    "if flag == False:\n",
    "    print(\"Not found\")\n"
   ]
  },
  {
   "cell_type": "code",
   "execution_count": 3,
   "id": "8eaabba0",
   "metadata": {},
   "outputs": [
    {
     "name": "stdout",
     "output_type": "stream",
     "text": [
      "[32, -5, 45, 92, 99, 65, 11, 101]\n",
      "[-5, 32, 45, 92, 65, 11, 99, 101]\n",
      "[-5, 32, 45, 65, 11, 92, 99, 101]\n",
      "[-5, 32, 45, 11, 65, 92, 99, 101]\n",
      "[-5, 32, 11, 45, 65, 92, 99, 101]\n",
      "[-5, 11, 32, 45, 65, 92, 99, 101]\n",
      "[-5, 11, 32, 45, 65, 92, 99, 101]\n"
     ]
    }
   ],
   "source": [
    "list1 = [45, 32, -5, 92, 99, 101, 65, 11]\n",
    "\n",
    "for j in range(len(list1)-1):\n",
    "    for i in range (0, len(list1)-1):\n",
    "        if list1[i] > list1[i+1]:\n",
    "            list1[i], list1[i+1] = list1 [i+1], list1[i]\n",
    "    print(list1)"
   ]
  },
  {
   "cell_type": "code",
   "execution_count": 1,
   "id": "3f622d02",
   "metadata": {},
   "outputs": [
    {
     "name": "stdout",
     "output_type": "stream",
     "text": [
      "The sum of elements in the list is: 158\n"
     ]
    }
   ],
   "source": [
    "# 17 - 02 -task \n",
    "#Arrays/Lists Questions:\n",
    "# 1. Sum of elements in a List.\n",
    "\n",
    "def sum_of_elements(lst):\n",
    "    sum = 0\n",
    "    for num in lst:\n",
    "        sum += num\n",
    "    return sum\n",
    "\n",
    "my_list = [11, 25, 43, 64, 15]\n",
    "result = sum_of_elements(my_list)\n",
    "print(\"The sum of elements in the list is:\", result) \n"
   ]
  },
  {
   "cell_type": "code",
   "execution_count": 2,
   "id": "da6427f9",
   "metadata": {},
   "outputs": [
    {
     "name": "stdout",
     "output_type": "stream",
     "text": [
      "The 2th element in the list is: 30\n"
     ]
    }
   ],
   "source": [
    "# 2 .Finding the k Element which is present in a List.\n",
    "\n",
    "def find_kth_element(list, k):\n",
    "    if k < 0 or k >= len(list):\n",
    "        return \"Index out of range\"\n",
    "    return list[k]\n",
    "\n",
    "my_list = [10, 20, 30, 40, 50]\n",
    "k = 2\n",
    "result = find_kth_element(my_list, k)\n",
    "print(f\"The {k}th element in the list is:\", result) "
   ]
  },
  {
   "cell_type": "code",
   "execution_count": 3,
   "id": "da1b45b0",
   "metadata": {},
   "outputs": [
    {
     "name": "stdout",
     "output_type": "stream",
     "text": [
      "The reversed array is: [55, 34, 43, 12, 21]\n"
     ]
    }
   ],
   "source": [
    "# reverse an array \n",
    "\n",
    "def rev_array(arr):\n",
    "    return arr[::-1]\n",
    "\n",
    "my_array = [21, 12, 43, 34, 55]\n",
    "rev_array = rev_array(my_array)\n",
    "print(\"The reversed array is:\", rev_array) "
   ]
  },
  {
   "cell_type": "code",
   "execution_count": 4,
   "id": "692bbff8",
   "metadata": {},
   "outputs": [
    {
     "name": "stdout",
     "output_type": "stream",
     "text": [
      "maximum number is:  9\n",
      "minimum number is:  1\n"
     ]
    }
   ],
   "source": [
    "#12) Find Largest & Smallest element in an list.  \n",
    "\n",
    "list1=[2,5,3,4,8,9,6,1]\n",
    "large=list1[0]\n",
    "small=list1[0]\n",
    "for i in list1:\n",
    "    if i>large:\n",
    "        large=i\n",
    "for i in list1:\n",
    "    if i<small:\n",
    "        small=i\n",
    "\n",
    "print(\"maximum number is: \",large)\n",
    "print(\"minimum number is: \",small) "
   ]
  },
  {
   "cell_type": "code",
   "execution_count": 5,
   "id": "76afd986",
   "metadata": {},
   "outputs": [
    {
     "name": "stdout",
     "output_type": "stream",
     "text": [
      "Duplicate elements: [2, 3, 5]\n"
     ]
    }
   ],
   "source": [
    "#3) Write a program to print duplicates and unique numbers in an array/List.\n",
    "\n",
    "def find_duplicates(lst):\n",
    "    duplicates = set()\n",
    "    seen = set()\n",
    "\n",
    "    for item in lst:\n",
    "        if item in seen:\n",
    "            duplicates.add(item)\n",
    "        else:\n",
    "            seen.add(item)\n",
    "\n",
    "    return list(duplicates)\n",
    "\n",
    "lst = [1, 2, 3, 4, 5, 2, 3, 6, 7, 8,5,10]\n",
    "duplicates = find_duplicates(lst)\n",
    "\n",
    "print(\"Duplicate elements:\", duplicates)"
   ]
  },
  {
   "cell_type": "code",
   "execution_count": null,
   "id": "a8fc7297",
   "metadata": {},
   "outputs": [],
   "source": []
  },
  {
   "cell_type": "code",
   "execution_count": 6,
   "id": "24748a9f",
   "metadata": {},
   "outputs": [
    {
     "name": "stdout",
     "output_type": "stream",
     "text": [
      "Prime numbers up to 50 are:\n",
      "2\n",
      "3\n",
      "5\n",
      "7\n",
      "11\n",
      "13\n",
      "17\n",
      "19\n",
      "23\n",
      "29\n",
      "31\n",
      "37\n",
      "41\n",
      "43\n",
      "47\n"
     ]
    }
   ],
   "source": [
    "def print_primes_up_to(n):\n",
    "    if n >= 2:\n",
    "        print(\"Prime numbers up to\", n, \"are:\")\n",
    "        for num in range(2, n + 1):\n",
    "            is_prime = True\n",
    "            for i in range(2, int(num ** 0.5) + 1):\n",
    "                if num % i == 0:\n",
    "                    is_prime = False\n",
    "                    break\n",
    "            if is_prime:\n",
    "                print(num)\n",
    "print_primes_up_to(50)\n"
   ]
  },
  {
   "cell_type": "code",
   "execution_count": null,
   "id": "24a67453",
   "metadata": {},
   "outputs": [
    {
     "name": "stdout",
     "output_type": "stream",
     "text": [
      "10 => 4\n",
      "30 => 2\n",
      "20 => 2\n"
     ]
    }
   ],
   "source": [
    "# 18/2--------task\n",
    "\n",
    "# 17. Finding the frequency of elements in an array.\n",
    "    # arr = [10, 30, 10, 20, 10, 20, 30, 10]  O/p: 10=> 4 30 =>2  20=> 2\n",
    "\n",
    "\n",
    "arr = [10, 30, 10, 20, 10, 20, 30, 10]\n",
    "frequency = {}\n",
    "\n",
    "for element in arr:\n",
    "    if element in frequency:\n",
    "        frequency[element] += 1\n",
    "    else:\n",
    "        frequency[element] = 1\n",
    "\n",
    "for key, value in frequency.items():\n",
    "    print(f'{key} => {value}')\n"
   ]
  },
  {
   "cell_type": "code",
   "execution_count": null,
   "id": "e64f327f",
   "metadata": {},
   "outputs": [
    {
     "name": "stdout",
     "output_type": "stream",
     "text": [
      "0\n"
     ]
    }
   ],
   "source": [
    "# 10. Wap to concate all duplicate numbers in an array.\n",
    "# Input:[23,33,200,785]       Output:30\n",
    "\n",
    "\n",
    "arr = [23, 33, 200, 785]\n",
    "sum_of_duplicates = 0\n",
    "frequency = {}\n",
    "\n",
    "for num in arr:\n",
    "    if num in frequency:\n",
    "        frequency[num] += 1\n",
    "    else:\n",
    "        frequency[num] = 1\n",
    "\n",
    "for num, count in frequency.items():\n",
    "    if count > 1:\n",
    "        concatenated_number = int(str(num) * count)\n",
    "        sum_of_duplicates += concatenated_number\n",
    "\n",
    "print(sum_of_duplicates)\n"
   ]
  },
  {
   "cell_type": "code",
   "execution_count": null,
   "id": "5dc1de7e",
   "metadata": {},
   "outputs": [
    {
     "name": "stdout",
     "output_type": "stream",
     "text": [
      "10106060\n"
     ]
    }
   ],
   "source": [
    "# Wap to concate all duplicate numbers in an array.\n",
    "# Input:[10, 30, 10, 20, 10, 20, 30, 10]  \n",
    "\n",
    "arr = [10, 30, 10, 20, 10, 20, 30, 10]\n",
    "sum_of_duplicates = 0\n",
    "frequency = {}\n",
    "\n",
    "for num in arr:\n",
    "    if num in frequency:\n",
    "        frequency[num] += 1\n",
    "    else:\n",
    "        frequency[num] = 1\n",
    "\n",
    "for num, count in frequency.items():\n",
    "    if count > 1:\n",
    "        concatenated_number = int(str(num) * count)\n",
    "        sum_of_duplicates += concatenated_number\n",
    "\n",
    "print(sum_of_duplicates)\n",
    "\n",
    "# 10101010 + 3030 + 2020 = 10101010 + 3030 + 2020 = 10106060\n"
   ]
  },
  {
   "cell_type": "code",
   "execution_count": null,
   "id": "10fa6db1",
   "metadata": {},
   "outputs": [
    {
     "name": "stdout",
     "output_type": "stream",
     "text": [
      "arr2 is a subset of arr1\n"
     ]
    }
   ],
   "source": [
    "# 19.check if array is subset of another array or not .if the arr2 contains elements which are there in arr1 then it is a subset of an array.\n",
    "# arr1=[1,3,4,5,2]\n",
    "# arr2=[2,4,3,1,7.5.15]\n",
    "# output: arr1 is subset of arr2\n",
    "# Print arr2 is subset or not subset of arr1\n",
    "# let arr1=[2,21,5,7,3,5,7,3,1,6,14,44];\n",
    "# let arr2=[7,3,1];\n",
    "\n",
    "\n",
    "def is_subset(arr1, arr2):\n",
    "    set1 = set(arr1)\n",
    "    set2 = set(arr2)\n",
    "    return set2.issubset(set1)\n",
    "\n",
    "arr1 = [2, 21, 5, 7, 3, 5, 7, 3, 1, 6, 14, 44]\n",
    "arr2 = [7, 3, 1]\n",
    "\n",
    "if is_subset(arr1, arr2):\n",
    "    print(\"arr2 is a subset of arr1\")\n",
    "else:\n",
    "    print(\"arr2 is not a subset of arr1\")\n"
   ]
  },
  {
   "cell_type": "code",
   "execution_count": null,
   "id": "40f7a572",
   "metadata": {},
   "outputs": [
    {
     "name": "stdout",
     "output_type": "stream",
     "text": [
      "Output: 2 pairs\n",
      "Output: 5 pairs\n"
     ]
    }
   ],
   "source": [
    "\n",
    "# 20) Wap to print the number of pairs formed by the array of elements\n",
    "#  Input: 10 20 10 30 20 20\t  Output: 2 pairs\n",
    "#  Input: 30 50 30 50 20 50 50 20 50 50    Output : 5 pairs\n",
    "\n",
    "def count_pairs(arr):\n",
    "    frequency = {}\n",
    "    pairs = 0\n",
    "\n",
    "    for num in arr:\n",
    "        if num in frequency:\n",
    "            frequency[num] += 1\n",
    "        else:\n",
    "            frequency[num] = 1\n",
    "\n",
    "    for count in frequency.values():\n",
    "        pairs += count // 2\n",
    "\n",
    "    return pairs\n",
    "\n",
    "arr1 = [10, 20, 10, 30, 20, 20]\n",
    "arr2 = [30, 50, 30, 50, 20, 50, 50, 20, 50, 50]\n",
    "\n",
    "print(f'Output: {count_pairs(arr1)} pairs') \n",
    "print(f'Output: {count_pairs(arr2)} pairs') \n"
   ]
  }
 ],
 "metadata": {
  "kernelspec": {
   "display_name": "Python 3",
   "language": "python",
   "name": "python3"
  },
  "language_info": {
   "codemirror_mode": {
    "name": "ipython",
    "version": 3
   },
   "file_extension": ".py",
   "mimetype": "text/x-python",
   "name": "python",
   "nbconvert_exporter": "python",
   "pygments_lexer": "ipython3",
   "version": "3.12.6"
  }
 },
 "nbformat": 4,
 "nbformat_minor": 5
}
