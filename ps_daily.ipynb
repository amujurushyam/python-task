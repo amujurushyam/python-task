{
 "cells": [
  {
   "cell_type": "code",
   "execution_count": 1,
   "metadata": {},
   "outputs": [
    {
     "name": "stdout",
     "output_type": "stream",
     "text": [
      "[90, 5.5, 'Str2', 'String', 4, 1]\n",
      "[90, 5.5, 'Str2', 'String', 4, 1]\n"
     ]
    }
   ],
   "source": [
    "# reverse an array \n",
    "\n",
    "list1 = [1, 4, \"String\", \"Str2\", 5.5, 90]\n",
    "rev = []\n",
    "for i in list1:\n",
    "    rev.insert(0, i)\n",
    "\n",
    "list1 = rev\n",
    "print(rev)\n",
    "print(list1)\n"
   ]
  },
  {
   "cell_type": "code",
   "execution_count": null,
   "metadata": {},
   "outputs": [],
   "source": []
  }
 ],
 "metadata": {
  "kernelspec": {
   "display_name": "Python 3",
   "language": "python",
   "name": "python3"
  },
  "language_info": {
   "codemirror_mode": {
    "name": "ipython",
    "version": 3
   },
   "file_extension": ".py",
   "mimetype": "text/x-python",
   "name": "python",
   "nbconvert_exporter": "python",
   "pygments_lexer": "ipython3",
   "version": "3.12.6"
  }
 },
 "nbformat": 4,
 "nbformat_minor": 2
}
