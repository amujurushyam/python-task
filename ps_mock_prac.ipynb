{
 "cells": [
  {
   "cell_type": "code",
   "execution_count": null,
   "metadata": {},
   "outputs": [
    {
     "name": "stdout",
     "output_type": "stream",
     "text": [
      "shyam\n"
     ]
    }
   ],
   "source": [
    "# reverse a string\n",
    "\n",
    "def reverse_string(s):\n",
    "    return s[::-1]\n",
    "\n",
    "\n",
    "print(reverse_string(\"mayhs\"))"
   ]
  },
  {
   "cell_type": "code",
   "execution_count": 4,
   "metadata": {},
   "outputs": [
    {
     "name": "stdout",
     "output_type": "stream",
     "text": [
      "True\n"
     ]
    }
   ],
   "source": [
    "# is prime or not\n",
    "\n",
    "def is_prime(n):\n",
    "    if n < 2:\n",
    "        return False\n",
    "    for i in range(2, int(n**0.5) + 1):\n",
    "        if n % i == 0:\n",
    "            return False\n",
    "    return True\n",
    "\n",
    "\n",
    "print(is_prime(5))"
   ]
  },
  {
   "cell_type": "code",
   "execution_count": 6,
   "metadata": {},
   "outputs": [
    {
     "name": "stdout",
     "output_type": "stream",
     "text": [
      "24\n"
     ]
    }
   ],
   "source": [
    "# factorial of a number\n",
    "\n",
    "def factorial(n):\n",
    "    return 1 if n == 0 else n * factorial(n - 1)\n",
    "\n",
    "\n",
    "print(factorial(4)) "
   ]
  },
  {
   "cell_type": "code",
   "execution_count": 8,
   "metadata": {},
   "outputs": [
    {
     "name": "stdout",
     "output_type": "stream",
     "text": [
      "8\n"
     ]
    }
   ],
   "source": [
    "# maximum number in a list\n",
    "\n",
    "def find_max(lst):\n",
    "    return max(lst)\n",
    "\n",
    "\n",
    "print(find_max([3, 1, 7, 8, 5]))  "
   ]
  },
  {
   "cell_type": "code",
   "execution_count": 10,
   "metadata": {},
   "outputs": [
    {
     "name": "stdout",
     "output_type": "stream",
     "text": [
      "True\n",
      "False\n"
     ]
    }
   ],
   "source": [
    "# is palindrome or not\n",
    "\n",
    "\n",
    "def is_palindrome(s):\n",
    "    return s == s[::-1]\n",
    "\n",
    "\n",
    "print(is_palindrome(\"racecar\"))\n",
    "print(is_palindrome(\"hello\"))"
   ]
  },
  {
   "cell_type": "code",
   "execution_count": 12,
   "metadata": {},
   "outputs": [
    {
     "name": "stdout",
     "output_type": "stream",
     "text": [
      "15\n"
     ]
    }
   ],
   "source": [
    "# sum of digits of a number\n",
    "\n",
    "def sum_of_digits(n):\n",
    "    return sum(int(digit) for digit in str(n))\n",
    "\n",
    "\n",
    "print(sum_of_digits(12345)) "
   ]
  },
  {
   "cell_type": "code",
   "execution_count": null,
   "metadata": {},
   "outputs": [],
   "source": [
    "# fibonacci series at n-th position\n",
    "\n",
    "def fibonacci(n):\n",
    "    if n <= 1:\n",
    "        return n\n",
    "    return fibonacci(n - 1) + fibonacci(n - 2)\n",
    "\n",
    "\n",
    "print(fibonacci(6))"
   ]
  },
  {
   "cell_type": "code",
   "execution_count": null,
   "metadata": {},
   "outputs": [
    {
     "name": "stdout",
     "output_type": "stream",
     "text": [
      "[1, 2, 3, 4, 5]\n"
     ]
    }
   ],
   "source": [
    "# remove duplicates from a list\n",
    "\n",
    "def remove_duplicates(lst):\n",
    "    return list(set(lst))\n",
    "\n",
    "\n",
    "print(remove_duplicates([1, 2, 2, 3, 4, 4, 5])) "
   ]
  },
  {
   "cell_type": "code",
   "execution_count": 15,
   "metadata": {},
   "outputs": [
    {
     "name": "stdout",
     "output_type": "stream",
     "text": [
      "45\n"
     ]
    }
   ],
   "source": [
    "# find the second largest number in a list\n",
    "\n",
    "def second_largest(lst):\n",
    "    unique_lst = list(set(lst))\n",
    "    unique_lst.sort()\n",
    "    return unique_lst[-2] if len(unique_lst) > 1 else None\n",
    "\n",
    "\n",
    "print(second_largest([10, 20, 4, 45, 99])) "
   ]
  },
  {
   "cell_type": "code",
   "execution_count": 14,
   "metadata": {},
   "outputs": [
    {
     "name": "stdout",
     "output_type": "stream",
     "text": [
      "{'hello': 2, 'world': 1}\n"
     ]
    }
   ],
   "source": [
    "# count frequency of words in a string\n",
    "\n",
    "from collections import Counter\n",
    "\n",
    "\n",
    "def word_frequency(s):\n",
    "    words = s.split()\n",
    "    return dict(Counter(words))\n",
    "\n",
    "\n",
    "print(word_frequency(\"hello world hello\"))"
   ]
  },
  {
   "cell_type": "code",
   "execution_count": 16,
   "metadata": {},
   "outputs": [
    {
     "name": "stdout",
     "output_type": "stream",
     "text": [
      "Positive\n",
      "Negative\n",
      "Zero\n"
     ]
    }
   ],
   "source": [
    "# check if a number is positive, negative or zero\n",
    "\n",
    "def check_number(n):\n",
    "    if n > 0:\n",
    "        print(\"Positive\")\n",
    "    elif n < 0:\n",
    "        print(\"Negative\")\n",
    "    else:\n",
    "        print(\"Zero\")\n",
    "\n",
    "\n",
    "check_number(5)\n",
    "check_number(-3) \n",
    "check_number(0) "
   ]
  },
  {
   "cell_type": "code",
   "execution_count": 17,
   "metadata": {},
   "outputs": [
    {
     "name": "stdout",
     "output_type": "stream",
     "text": [
      "Even\n",
      "Odd\n"
     ]
    }
   ],
   "source": [
    "# check if a number is even or odd\n",
    "\n",
    "def even_or_odd(n):\n",
    "    if n % 2 == 0:\n",
    "        print(\"Even\")\n",
    "    else:\n",
    "        print(\"Odd\")\n",
    "\n",
    "\n",
    "even_or_odd(10)  \n",
    "even_or_odd(7) "
   ]
  },
  {
   "cell_type": "code",
   "execution_count": null,
   "metadata": {},
   "outputs": [
    {
     "name": "stdout",
     "output_type": "stream",
     "text": [
      "Leap Year\n",
      "Not a Leap Year\n"
     ]
    }
   ],
   "source": [
    "# leap year check\n",
    "\n",
    "def is_leap_year(year):\n",
    "    if (year % 4 == 0 and year % 100 != 0) or (year % 400 == 0):\n",
    "        print(\"Leap Year\")\n",
    "    else:\n",
    "        print(\"Not a Leap Year\")\n",
    "\n",
    "\n",
    "is_leap_year(2024) \n",
    "is_leap_year(1900) "
   ]
  },
  {
   "cell_type": "code",
   "execution_count": null,
   "metadata": {},
   "outputs": [
    {
     "name": "stdout",
     "output_type": "stream",
     "text": [
      "Largest: 25\n"
     ]
    }
   ],
   "source": [
    "# largest of three numbers\n",
    "\n",
    "def largest_of_three(a, b, c):\n",
    "    if a >= b and a >= c:\n",
    "        print(\"Largest:\", a)\n",
    "    elif b >= a and b >= c:\n",
    "        print(\"Largest:\", b)\n",
    "    else:\n",
    "        print(\"Largest:\", c)\n",
    "\n",
    "\n",
    "largest_of_three(10, 25, 15) "
   ]
  },
  {
   "cell_type": "code",
   "execution_count": null,
   "metadata": {},
   "outputs": [
    {
     "name": "stdout",
     "output_type": "stream",
     "text": [
      "Grade: B\n",
      "Grade: C\n",
      "Grade: F\n",
      "Grade: A\n",
      "Grade: D\n",
      "Grade: B\n"
     ]
    }
   ],
   "source": [
    "# grade assignment based on marks\n",
    "\n",
    "def assign_grade(marks):\n",
    "    if marks >= 90:\n",
    "        print(\"Grade: A\")\n",
    "    elif marks >= 80:\n",
    "        print(\"Grade: B\")\n",
    "    elif marks >= 70:\n",
    "        print(\"Grade: C\")\n",
    "    elif marks >= 60:\n",
    "        print(\"Grade: D\")\n",
    "    else:\n",
    "        print(\"Grade: F\")\n",
    "\n",
    "\n",
    "assign_grade(85) \n",
    "assign_grade(72)\n",
    "assign_grade(55)\n",
    "assign_grade(90)\n",
    "assign_grade(65)\n",
    "assign_grade(80)"
   ]
  },
  {
   "cell_type": "code",
   "execution_count": 21,
   "metadata": {},
   "outputs": [
    {
     "name": "stdout",
     "output_type": "stream",
     "text": [
      "Vowel\n",
      "Consonant\n"
     ]
    }
   ],
   "source": [
    "# vowel or consonant check\n",
    "\n",
    "def check_vowel_consonant(ch):\n",
    "    vowels = \"aeiouAEIOU\"\n",
    "    if ch in vowels:\n",
    "        print(\"Vowel\")\n",
    "    else:\n",
    "        print(\"Consonant\")\n",
    "\n",
    "\n",
    "check_vowel_consonant(\"a\")\n",
    "check_vowel_consonant(\"b\")"
   ]
  },
  {
   "cell_type": "code",
   "execution_count": 22,
   "metadata": {},
   "outputs": [
    {
     "name": "stdout",
     "output_type": "stream",
     "text": [
      "Divisible by both 5 and 11\n",
      "Not Divisible\n"
     ]
    }
   ],
   "source": [
    "# check divisibility by 5 and 11\n",
    "\n",
    "def check_divisibility(n):\n",
    "    if n % 5 == 0 and n % 11 == 0:\n",
    "        print(\"Divisible by both 5 and 11\")\n",
    "    else:\n",
    "        print(\"Not Divisible\")\n",
    "\n",
    "\n",
    "check_divisibility(55) \n",
    "check_divisibility(30)  "
   ]
  },
  {
   "cell_type": "code",
   "execution_count": 23,
   "metadata": {},
   "outputs": [
    {
     "name": "stdout",
     "output_type": "stream",
     "text": [
      "Equilateral Triangle\n",
      "Isosceles Triangle\n",
      "Scalene Triangle\n"
     ]
    }
   ],
   "source": [
    "# determine triangle type based on sides\n",
    "\n",
    "def triangle_type(a, b, c):\n",
    "    if a == b == c:\n",
    "        print(\"Equilateral Triangle\")\n",
    "    elif a == b or b == c or a == c:\n",
    "        print(\"Isosceles Triangle\")\n",
    "    else:\n",
    "        print(\"Scalene Triangle\")\n",
    "\n",
    "\n",
    "triangle_type(5, 5, 5) \n",
    "triangle_type(5, 5, 3)  \n",
    "triangle_type(4, 5, 6)  "
   ]
  },
  {
   "cell_type": "code",
   "execution_count": 24,
   "metadata": {},
   "outputs": [
    {
     "name": "stdout",
     "output_type": "stream",
     "text": [
      "Alphabet\n",
      "Digit\n",
      "Special Character\n"
     ]
    }
   ],
   "source": [
    "# check character type (alphabet, digit, special character)\n",
    "\n",
    "def check_character(ch):\n",
    "    if ch.isalpha():\n",
    "        print(\"Alphabet\")\n",
    "    elif ch.isdigit():\n",
    "        print(\"Digit\")\n",
    "    else:\n",
    "        print(\"Special Character\")\n",
    "\n",
    "\n",
    "check_character(\"A\") \n",
    "check_character(\"8\")  \n",
    "check_character(\"$\")  "
   ]
  },
  {
   "cell_type": "code",
   "execution_count": 25,
   "metadata": {},
   "outputs": [
    {
     "name": "stdout",
     "output_type": "stream",
     "text": [
      "Eligible to Vote\n",
      "Not Eligible to Vote\n"
     ]
    }
   ],
   "source": [
    "# check if person is able to vote based on age\n",
    "\n",
    "def can_vote(age):\n",
    "    if age >= 18:\n",
    "        print(\"Eligible to Vote\")\n",
    "    else:\n",
    "        print(\"Not Eligible to Vote\")\n",
    "\n",
    "\n",
    "can_vote(20) \n",
    "can_vote(16)  "
   ]
  }
 ],
 "metadata": {
  "kernelspec": {
   "display_name": "Python 3",
   "language": "python",
   "name": "python3"
  },
  "language_info": {
   "codemirror_mode": {
    "name": "ipython",
    "version": 3
   },
   "file_extension": ".py",
   "mimetype": "text/x-python",
   "name": "python",
   "nbconvert_exporter": "python",
   "pygments_lexer": "ipython3",
   "version": "3.12.6"
  }
 },
 "nbformat": 4,
 "nbformat_minor": 2
}
