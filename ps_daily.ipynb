{
 "cells": [
  {
   "cell_type": "code",
   "execution_count": null,
   "metadata": {},
   "outputs": [],
   "source": [
    "# reverse an array \n",
    "\n",
    "list1 = [1, 4, \"String\", \"Str2\", 5.5, 90]\n",
    "rev = []\n",
    "for i in list1:\n",
    "    rev.insert(0, i)\n",
    "\n",
    "list1 = rev\n",
    "print(rev)\n",
    "print(list1)\n"
   ]
  }
 ],
 "metadata": {
  "kernelspec": {
   "display_name": "Python 3",
   "language": "python",
   "name": "python3"
  },
  "language_info": {
   "name": "python",
   "version": "3.12.6"
  }
 },
 "nbformat": 4,
 "nbformat_minor": 2
}
