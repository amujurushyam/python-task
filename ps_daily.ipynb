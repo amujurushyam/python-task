{
 "cells": [
  {
   "cell_type": "code",
   "execution_count": 1,
   "metadata": {},
   "outputs": [
    {
     "name": "stdout",
     "output_type": "stream",
     "text": [
      "[90, 5.5, 'Str2', 'String', 4, 1]\n",
      "[90, 5.5, 'Str2', 'String', 4, 1]\n"
     ]
    }
   ],
   "source": [
    "# reverse an array \n",
    "\n",
    "list1 = [1, 4, \"String\", \"Str2\", 5.5, 90]\n",
    "rev = []\n",
    "for i in list1:\n",
    "    rev.insert(0, i)\n",
    "\n",
    "list1 = rev\n",
    "print(rev)\n",
    "print(list1)\n"
   ]
  },
  {
   "cell_type": "code",
   "execution_count": null,
   "metadata": {},
   "outputs": [
    {
     "name": "stdout",
     "output_type": "stream",
     "text": [
      "['F', 'E', 'D', 'C', 'B', 'A']\n",
      "['F', 'E', 'D', 'C', 'B', 'A']\n"
     ]
    }
   ],
   "source": [
    "list = [\"A\", \"B\", \"C\", \"D\", \"E\",\"F\"]\n",
    "rev = []\n",
    "for i in list:\n",
    "    rev.insert(0, i)\n",
    "\n",
    "list = rev\n",
    "print(rev)\n",
    "print(list)"
   ]
  },
  {
   "cell_type": "code",
   "execution_count": 7,
   "metadata": {},
   "outputs": [
    {
     "name": "stdout",
     "output_type": "stream",
     "text": [
      "['sumanth', 'pandu', 'varsha', 'shyam']\n"
     ]
    }
   ],
   "source": [
    "list = [\"shyam\", \"varsha\", \"pandu\", \"sumanth\"]\n",
    "low = 0\n",
    "high = len(list) - 1\n",
    "while low < high:\n",
    "    list[low],list[high] = list[high], list[low]\n",
    "    low += 1\n",
    "    high -= 1\n",
    "print(list)"
   ]
  },
  {
   "cell_type": "code",
   "execution_count": 9,
   "metadata": {},
   "outputs": [
    {
     "name": "stdout",
     "output_type": "stream",
     "text": [
      "{4, 6}\n",
      "{2, 5, 7, 8}\n"
     ]
    }
   ],
   "source": [
    "# .write a program to print duplicates and unique numbers in an array/list\n",
    "\n",
    "duplicate = set()\n",
    "unique = set()\n",
    "\n",
    "list1 = [2,4,6,8,5,4,6,7]\n",
    "for i in list1:\n",
    "    if i in unique:\n",
    "        duplicate.add(i)\n",
    "        unique.remove(i)\n",
    "    elif i not in duplicate:\n",
    "        unique.add(i)\n",
    "print(duplicate)\n",
    "print(unique)\n"
   ]
  },
  {
   "cell_type": "code",
   "execution_count": 4,
   "metadata": {},
   "outputs": [
    {
     "name": "stdout",
     "output_type": "stream",
     "text": [
      "[True, False, True, True]\n"
     ]
    }
   ],
   "source": [
    "# write a program to check if each num in a list contains duplicates and unique return true for duplicates and false for unique\n",
    "\n",
    "def duplicate_digit_exits(num1):\n",
    "    curr_list = []\n",
    "    while num1 > 0:\n",
    "        rem = num1% 10\n",
    "        if rem in curr_list:\n",
    "            return True\n",
    "        curr_list.append(rem)\n",
    "        num1 = num1 // 10\n",
    "    return False\n",
    "list2 = [202, 89, 112, 88]\n",
    "res = []\n",
    "for i in list2:\n",
    "    res.append(duplicate_digit_exits(i))\n",
    "\n",
    "print(res)"
   ]
  },
  {
   "cell_type": "code",
   "execution_count": 2,
   "metadata": {},
   "outputs": [
    {
     "name": "stdout",
     "output_type": "stream",
     "text": [
      "2345 missing\n"
     ]
    }
   ],
   "source": [
    "def missing_number(num1):\n",
    "    reminder = []\n",
    "    str1 = \"\"\n",
    "    while num1 > 0:\n",
    "        rem = num1 % 10\n",
    "        reminder.append(rem)\n",
    "        num1 = num1 // 10\n",
    "    \n",
    "    for i in range(1, max(reminder)):\n",
    "        if i not in reminder:\n",
    "            str1 += str(i)\n",
    "\n",
    "    return str1 + \" missing\"\n",
    "\n",
    "print(missing_number(16))"
   ]
  }
 ],
 "metadata": {
  "kernelspec": {
   "display_name": "Python 3",
   "language": "python",
   "name": "python3"
  },
  "language_info": {
   "codemirror_mode": {
    "name": "ipython",
    "version": 3
   },
   "file_extension": ".py",
   "mimetype": "text/x-python",
   "name": "python",
   "nbconvert_exporter": "python",
   "pygments_lexer": "ipython3",
   "version": "3.12.6"
  }
 },
 "nbformat": 4,
 "nbformat_minor": 2
}
