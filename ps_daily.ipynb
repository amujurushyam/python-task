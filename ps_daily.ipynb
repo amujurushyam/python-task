{
 "cells": [
  {
   "cell_type": "code",
   "execution_count": 1,
   "metadata": {},
   "outputs": [
    {
     "name": "stdout",
     "output_type": "stream",
     "text": [
      "[90, 5.5, 'Str2', 'String', 4, 1]\n",
      "[90, 5.5, 'Str2', 'String', 4, 1]\n"
     ]
    }
   ],
   "source": [
    "# reverse an array \n",
    "\n",
    "list1 = [1, 4, \"String\", \"Str2\", 5.5, 90]\n",
    "rev = []\n",
    "for i in list1:\n",
    "    rev.insert(0, i)\n",
    "\n",
    "list1 = rev\n",
    "print(rev)\n",
    "print(list1)\n"
   ]
  },
  {
   "cell_type": "code",
   "execution_count": null,
   "metadata": {},
   "outputs": [
    {
     "name": "stdout",
     "output_type": "stream",
     "text": [
      "['F', 'E', 'D', 'C', 'B', 'A']\n",
      "['F', 'E', 'D', 'C', 'B', 'A']\n"
     ]
    }
   ],
   "source": [
    "list = [\"A\", \"B\", \"C\", \"D\", \"E\",\"F\"]\n",
    "rev = []\n",
    "for i in list:\n",
    "    rev.insert(0, i)\n",
    "\n",
    "list = rev\n",
    "print(rev)\n",
    "print(list)"
   ]
  },
  {
   "cell_type": "code",
   "execution_count": 7,
   "metadata": {},
   "outputs": [
    {
     "name": "stdout",
     "output_type": "stream",
     "text": [
      "['sumanth', 'pandu', 'varsha', 'shyam']\n"
     ]
    }
   ],
   "source": [
    "list = [\"shyam\", \"varsha\", \"pandu\", \"sumanth\"]\n",
    "low = 0\n",
    "high = len(list) - 1\n",
    "while low < high:\n",
    "    list[low],list[high] = list[high], list[low]\n",
    "    low += 1\n",
    "    high -= 1\n",
    "print(list)"
   ]
  },
  {
   "cell_type": "code",
   "execution_count": 9,
   "metadata": {},
   "outputs": [
    {
     "name": "stdout",
     "output_type": "stream",
     "text": [
      "{4, 6}\n",
      "{2, 5, 7, 8}\n"
     ]
    }
   ],
   "source": [
    "# .write a program to print duplicates and unique numbers in an array/list\n",
    "\n",
    "duplicate = set()\n",
    "unique = set()\n",
    "\n",
    "list1 = [2,4,6,8,5,4,6,7]\n",
    "for i in list1:\n",
    "    if i in unique:\n",
    "        duplicate.add(i)\n",
    "        unique.remove(i)\n",
    "    elif i not in duplicate:\n",
    "        unique.add(i)\n",
    "print(duplicate)\n",
    "print(unique)\n"
   ]
  },
  {
   "cell_type": "code",
   "execution_count": 4,
   "metadata": {},
   "outputs": [
    {
     "name": "stdout",
     "output_type": "stream",
     "text": [
      "[True, False, True, True]\n"
     ]
    }
   ],
   "source": [
    "# write a program to check if each num in a list contains duplicates and unique return true for duplicates and false for unique\n",
    "\n",
    "def duplicate_digit_exits(num1):\n",
    "    curr_list = []\n",
    "    while num1 > 0:\n",
    "        rem = num1% 10\n",
    "        if rem in curr_list:\n",
    "            return True\n",
    "        curr_list.append(rem)\n",
    "        num1 = num1 // 10\n",
    "    return False\n",
    "list2 = [202, 89, 112, 88]\n",
    "res = []\n",
    "for i in list2:\n",
    "    res.append(duplicate_digit_exits(i))\n",
    "\n",
    "print(res)"
   ]
  },
  {
   "cell_type": "code",
   "execution_count": 2,
   "metadata": {},
   "outputs": [
    {
     "name": "stdout",
     "output_type": "stream",
     "text": [
      "2345 missing\n"
     ]
    }
   ],
   "source": [
    "def missing_number(num1):\n",
    "    reminder = []\n",
    "    str1 = \"\"\n",
    "    while num1 > 0:\n",
    "        rem = num1 % 10\n",
    "        reminder.append(rem)\n",
    "        num1 = num1 // 10\n",
    "    \n",
    "    for i in range(1, max(reminder)):\n",
    "        if i not in reminder:\n",
    "            str1 += str(i)\n",
    "\n",
    "    return str1 + \" missing\"\n",
    "\n",
    "print(missing_number(16))"
   ]
  },
  {
   "cell_type": "code",
   "execution_count": 2,
   "metadata": {},
   "outputs": [
    {
     "name": "stdout",
     "output_type": "stream",
     "text": [
      "[20, 15, 26, 2, 98, 6]\n",
      "[2, 6, 15, 20, 26, 98]\n",
      "[4, 3, 5, 1, 6, 2]\n"
     ]
    }
   ],
   "source": [
    "# 16 - multidimension arrays \n",
    "list1 = [20 ,15,26,2,98,6] \n",
    "\n",
    "list2 = sorted(list1)\n",
    "print(list1)\n",
    "print(list2)\n",
    "\n",
    "\n",
    "res = []\n",
    "for i in list1:\n",
    "    temp = list2.index(i) + 1\n",
    "    res.append(temp)\n",
    "\n",
    "print(res)\n",
    " "
   ]
  },
  {
   "cell_type": "code",
   "execution_count": 5,
   "metadata": {},
   "outputs": [
    {
     "name": "stdout",
     "output_type": "stream",
     "text": [
      "[1, 5, 6, 9, 8, 7]\n"
     ]
    }
   ],
   "source": [
    "# 18 first ascending then descending \n",
    "\n",
    "list1 = [8,7,1,6,5,9]\n",
    "list1.sort()\n",
    "\n",
    "# low = len(list1)//2 # even numbers \n",
    "low = (len(list1) - 1)//2 + 1   # odd numbers \n",
    "high = len(list1) - 1\n",
    "while low < high:\n",
    "    list1[low] , list1[high] = list1[high] , list1[low]\n",
    "    low += 1\n",
    "    high -= 1\n",
    "print(list1)"
   ]
  },
  {
   "cell_type": "code",
   "execution_count": 4,
   "metadata": {},
   "outputs": [
    {
     "name": "stdout",
     "output_type": "stream",
     "text": [
      "1\n",
      "2\n",
      "3\n",
      "4\n",
      "5\n",
      "6\n",
      "7\n",
      "8\n",
      "9\n",
      "[[1, 2, 3], [4, 5, 6], [7, 8, 9]]\n",
      "[[1, 4, 7], [2, 5, 8], [3, 6, 9]]\n",
      "1\n",
      "4\n",
      "7\n",
      "2\n",
      "5\n",
      "8\n",
      "3\n",
      "6\n",
      "9\n"
     ]
    }
   ],
   "source": [
    "list1 = [[1,2,3],[4,5,6],[7,8,9]]\n",
    "\n",
    "\n",
    "def print_matrix(list2):\n",
    "    for i in range(len(list2)):\n",
    "        for j in range(len(list2[i])):\n",
    "            print(list2[i][j] , end = \"\")\n",
    "            print() \n",
    "print_matrix(list1)\n",
    "print(list1)\n",
    "for i in range(len(list1)):\n",
    "    for j in range(len(list1[i])):\n",
    "        if i <= j:\n",
    "            list1[i][j] , list1[j][i] = list1[j][i] , list1[i][j] \n",
    "print(list1)\n",
    "print_matrix(list1)"
   ]
  },
  {
   "cell_type": "code",
   "execution_count": null,
   "metadata": {},
   "outputs": [
    {
     "name": "stdout",
     "output_type": "stream",
     "text": [
      "1 2 3 \n",
      "4 5 6 \n",
      "7 8 9 \n"
     ]
    }
   ],
   "source": [
    "list =[[1,2,3],[4,5,6],[7,8,9]]\n",
    "def print_matrix(list):\n",
    "    for i in range(len(list)):\n",
    "      for j in range(len(list[i])):\n",
    "         print(list[i][j],end =\" \")\n",
    "      print()  \n",
    "print_matrix(list)"
   ]
  },
  {
   "cell_type": "code",
   "execution_count": 3,
   "metadata": {},
   "outputs": [
    {
     "name": "stdout",
     "output_type": "stream",
     "text": [
      "[[1, 4, 7], [2, 5, 8], [3, 6, 9]]\n"
     ]
    }
   ],
   "source": [
    "list =[[1,2,3],[4,5,6],[7,8,9]]\n",
    "for i in range(len(list)):\n",
    "    for j in range(len(list[i])):\n",
    "        if i <= j:\n",
    "            list[i][j],list[j][i] = list[j][i],list[i][j]\n",
    "print(list) "
   ]
  },
  {
   "cell_type": "code",
   "execution_count": null,
   "metadata": {},
   "outputs": [
    {
     "name": "stdout",
     "output_type": "stream",
     "text": [
      "5\n"
     ]
    }
   ],
   "source": [
    "sum = 0\n",
    "for i in range(len(list1)):\n",
    "    for j in range(len(list1[i])):\n",
    "        if i == j and i + j == len(list1) - 1:\n",
    "            sum += list1[i][j]\n",
    "\n",
    "print(sum)"
   ]
  },
  {
   "cell_type": "code",
   "execution_count": 6,
   "metadata": {},
   "outputs": [
    {
     "name": "stdout",
     "output_type": "stream",
     "text": [
      "The sum of the numbers 2, 9, 1, 4, 3 is: 17\n"
     ]
    }
   ],
   "source": [
    "matrix = [\n",
    "    [1, 2, 3],\n",
    "    [5, 4, 1],\n",
    "    [3, 6, 1]\n",
    "]\n",
    "\n",
    "total_sum = matrix[0][0] + matrix[1][1] + matrix[2][2] + matrix[2][1] + matrix[1][0]\n",
    "\n",
    "print(\"The sum of the numbers 2, 9, 1, 4, 3 is:\", total_sum)"
   ]
  },
  {
   "cell_type": "code",
   "execution_count": 20,
   "metadata": {},
   "outputs": [
    {
     "name": "stdout",
     "output_type": "stream",
     "text": [
      "1 2 3 \n",
      "5 4 1 \n",
      "3 6 1 \n",
      "1 2 3 \n",
      "5   1 \n",
      "3 6 1 \n"
     ]
    }
   ],
   "source": [
    "# 4) print the outer number in a matrix\n",
    "# input: \n",
    "# 1 2  3\n",
    "# 5  4  1\n",
    "# 3  6  1\n",
    "# Out:\n",
    "# 1 2 3 \n",
    "# 5    1\n",
    "# 3 6 1\n",
    "\n",
    "\n",
    "list =[[1,2,3],[5,4,1],[3,6,1]]\n",
    "def print_matrix(list):\n",
    "    for i in range(len(list)):\n",
    "      for j in range(len(list[i])):\n",
    "         print(list[i][j],end =\" \")\n",
    "      print()  \n",
    "print_matrix(list)\n",
    "\n",
    "\n",
    "\n",
    "def print_outer_numbers(matrix):\n",
    "    for i in range(len(matrix)):\n",
    "        for j in range(len(matrix[0])):\n",
    "            if i == 0 or i == len(matrix) - 1 or j == 0 or j == len(matrix[0]) - 1:\n",
    "                print(matrix[i][j], end=\" \")\n",
    "            else:\n",
    "                print(\"  \", end=\"\")\n",
    "        print()\n",
    "\n",
    "matrix = [\n",
    "    [1, 2, 3],\n",
    "    [5, 4, 1],\n",
    "    [3, 6, 1]\n",
    "]\n",
    "\n",
    "print_outer_numbers(matrix)\n"
   ]
  },
  {
   "cell_type": "code",
   "execution_count": null,
   "metadata": {},
   "outputs": [
    {
     "name": "stdout",
     "output_type": "stream",
     "text": [
      "120\n"
     ]
    }
   ],
   "source": [
    "# Recursions in ps----------------------------------------- 21/2\n",
    "\n",
    "#  a fucntion calling itself is called recursion\n",
    "\n",
    "# factorial - 5*4! => 4*3! => 3*2! => 2*1!\n",
    "\n",
    "def factorial (n) :\n",
    "    if n == 1 or n == 0:\n",
    "        return 1\n",
    "    \n",
    "    return n * factorial(n-1)\n",
    "\n",
    "print(factorial(5))\n",
    "\n"
   ]
  },
  {
   "cell_type": "code",
   "execution_count": null,
   "metadata": {},
   "outputs": [
    {
     "name": "stdout",
     "output_type": "stream",
     "text": [
      "13\n"
     ]
    }
   ],
   "source": [
    "# fibonacci series---------------\n",
    "\n",
    "\n",
    "def fib(n):\n",
    "    if n == 0 or n == 1:\n",
    "        return n\n",
    "    return fib(n - 1) + fib(n - 2)\n",
    "\n",
    "\n",
    "print(fib(7))"
   ]
  },
  {
   "cell_type": "code",
   "execution_count": null,
   "metadata": {},
   "outputs": [
    {
     "data": {
      "text/plain": [
       "20"
      ]
     },
     "execution_count": 19,
     "metadata": {},
     "output_type": "execute_result"
    }
   ],
   "source": [
    "# sum of digits\n",
    "\n",
    "def sum_of_digits(num1):\n",
    "   if num1 == 0:\n",
    "      return 0\n",
    "   rem = num1 % 10\n",
    "   return rem + sum_of_digits(num1 // 10)\n",
    "sum_of_digits(23564)\n"
   ]
  },
  {
   "cell_type": "code",
   "execution_count": null,
   "metadata": {},
   "outputs": [
    {
     "name": "stdout",
     "output_type": "stream",
     "text": [
      "1\n"
     ]
    }
   ],
   "source": [
    "# exponents------------\n",
    "def exponents(a, b):\n",
    "    if b == 0:\n",
    "        return 1\n",
    "    return a * exponents(a, b - 1)\n",
    "\n",
    "\n",
    "print(exponents(1, 2))"
   ]
  },
  {
   "cell_type": "code",
   "execution_count": null,
   "metadata": {},
   "outputs": [
    {
     "name": "stdout",
     "output_type": "stream",
     "text": [
      "gnirts a esreveR\n"
     ]
    }
   ],
   "source": [
    "# reverse a string ---------- normal code\n",
    "\n",
    "new_str1 = \"\"\n",
    "str1 = \"Reverse a string\"\n",
    "\n",
    "for i in str1:\n",
    "    new_str1 = i + new_str1\n",
    "\n",
    "print(new_str1)"
   ]
  },
  {
   "cell_type": "code",
   "execution_count": null,
   "metadata": {},
   "outputs": [
    {
     "name": "stdout",
     "output_type": "stream",
     "text": [
      "mayhS\n"
     ]
    }
   ],
   "source": [
    "# reverse a string ---------- recursion code\n",
    "\n",
    "\n",
    "def reverse_string(str1):\n",
    "    if len(str1) <= 0:\n",
    "        return \"\"\n",
    "    return str1[-1] + reverse_string(str1[:-1])\n",
    "\n",
    "\n",
    "print(reverse_string(\"Shyam\"))"
   ]
  },
  {
   "cell_type": "code",
   "execution_count": null,
   "metadata": {},
   "outputs": [],
   "source": [
    "def reverse_string_no_slice(st)"
   ]
  },
  {
   "cell_type": "code",
   "execution_count": null,
   "metadata": {},
   "outputs": [
    {
     "name": "stdout",
     "output_type": "stream",
     "text": [
      "True\n"
     ]
    }
   ],
   "source": [
    "# palindrome\n",
    "\n",
    "\n",
    "def is_palindrome(str1):\n",
    "    if len(str1) in [0, 1]:\n",
    "        return True\n",
    "    return str1[0] == str1[-1] and is_palindrome(str1[1:-1])\n",
    "\n",
    "\n",
    "print(is_palindrome(\"MalayalaM\"))"
   ]
  },
  {
   "cell_type": "code",
   "execution_count": null,
   "metadata": {},
   "outputs": [
    {
     "name": "stdout",
     "output_type": "stream",
     "text": [
      "111\n"
     ]
    }
   ],
   "source": [
    "def max_in_list(list1):\n",
    "    if len(list1) == 1:\n",
    "        return list1[0]\n",
    "\n",
    "    first_element = list1[0]\n",
    "    rec_max = max_in_list(list1[1:])\n",
    "    final_max = first_element if first_element > rec_max else rec_max\n",
    "    return final_max\n",
    "\n",
    "\n",
    "list1 = [1, 4, 9, 111, 23, 92]\n",
    "print(max_in_list(list1))"
   ]
  },
  {
   "cell_type": "code",
   "execution_count": null,
   "metadata": {},
   "outputs": [
    {
     "name": "stdout",
     "output_type": "stream",
     "text": [
      "Buzz\n"
     ]
    }
   ],
   "source": [
    "num = int(input(\"enter a number :\"))\n",
    "if num % 3 == 0 and num % 5 == 0:\n",
    "    print(\"FizzBuzz\")\n",
    "elif num % 3 == 0:\n",
    "    print(\"Fizz\")\n",
    "elif num % 5 == 0:\n",
    "    print(\"Buzz\")\n",
    "else:\n",
    "    print(\"Invalid\")"
   ]
  },
  {
   "cell_type": "code",
   "execution_count": null,
   "metadata": {},
   "outputs": [
    {
     "name": "stdout",
     "output_type": "stream",
     "text": [
      "[1, 2, 3, 4, 4, 5, 7, 8, 9, 11, 12, 23, 34, 541, 600, 700]\n"
     ]
    }
   ],
   "source": [
    "list1 = [1, 2, 3, 4, 5, 8, 23, 541]\n",
    "list2 = [4, 7, 9, 11, 12, 34, 600, 700]\n",
    "\n",
    "merged_list = list1 + list2\n",
    "merged_list.sort()\n",
    "print(merged_list)\n",
    "\n",
    "# output = [1,2,3,4,4,5,7,8,9,11,12,23,34,541,600,700]"
   ]
  },
  {
   "cell_type": "code",
   "execution_count": 8,
   "metadata": {},
   "outputs": [
    {
     "name": "stdout",
     "output_type": "stream",
     "text": [
      "[1, 1, 5, 5, 8, 9, 12, 25, 42, 45, 46, 52, 58, 65]\n"
     ]
    }
   ],
   "source": [
    "list1 = [\n",
    "    5,\n",
    "    8,\n",
    "    9,\n",
    "    42,\n",
    "    1,\n",
    "    46,\n",
    "    5,\n",
    "    52,\n",
    "]\n",
    "list2 = [25, 45, 12, 1, 65, 58]\n",
    "merged_list = list1 + list2\n",
    "merged_list.sort()\n",
    "print(merged_list)"
   ]
  },
  {
   "cell_type": "code",
   "execution_count": null,
   "metadata": {},
   "outputs": [
    {
     "name": "stdout",
     "output_type": "stream",
     "text": [
      "[1, 2, 3, 4, 4, 5, 7, 8, 9, 11, 12, 23, 34, 541, 600]\n"
     ]
    }
   ],
   "source": [
    "# a peice of merg sort\n",
    "\n",
    "list1 = [1, 2, 3, 4, 5, 8, 23, 541]\n",
    "list2 = [4, 7, 9, 11, 12, 34, 600]\n",
    "\n",
    "low1, low2 = 0, 0\n",
    "\n",
    "res = []\n",
    "while low1 < len(list1) and low2 < len(list2):\n",
    "    if list1[low1] < list2[low2]:\n",
    "        res.append(list1[low1])\n",
    "        low1 += 1\n",
    "    else:\n",
    "        res.append(list2[low2])\n",
    "        low2 += 1\n",
    "\n",
    "res.extend(list1[low1:])\n",
    "res.extend(list2[low2:])\n",
    "print(res)"
   ]
  },
  {
   "cell_type": "code",
   "execution_count": null,
   "metadata": {},
   "outputs": [
    {
     "name": "stdout",
     "output_type": "stream",
     "text": [
      "Not a palindrome.\n"
     ]
    }
   ],
   "source": [
    "# palindrome\n",
    "\n",
    "def is_palindrome(s):\n",
    "    return s == s[::-1]\n",
    "\n",
    "\n",
    "string = input(\"Enter a string: \").strip().lower()\n",
    "if is_palindrome(string):\n",
    "    print(\"It's a palindrome!\")\n",
    "else:\n",
    "    print(\"Not a palindrome.\")"
   ]
  },
  {
   "cell_type": "code",
   "execution_count": 10,
   "metadata": {},
   "outputs": [
    {
     "name": "stdout",
     "output_type": "stream",
     "text": [
      "Sorted array: [1, 2, 3, 4, 5, 6, 7, 8]\n"
     ]
    }
   ],
   "source": [
    "def merge_sort(arr):\n",
    "    if len(arr) <= 1:\n",
    "        return arr\n",
    "\n",
    "    mid = len(arr) // 2\n",
    "    left_half = merge_sort(arr[:mid])\n",
    "    right_half = merge_sort(arr[mid:])\n",
    "\n",
    "    return merge(left_half, right_half)\n",
    "\n",
    "def merge(left, right):\n",
    "    sorted_list = []\n",
    "    i = j = 0\n",
    "\n",
    "    while i < len(left) and j < len(right):\n",
    "        if left[i] < right[j]:\n",
    "            sorted_list.append(left[i])\n",
    "            i += 1\n",
    "        else:\n",
    "            sorted_list.append(right[j])\n",
    "            j += 1\n",
    "\n",
    "    sorted_list.extend(left[i:])\n",
    "    sorted_list.extend(right[j:])\n",
    "    return sorted_list\n",
    "\n",
    "# Example usage\n",
    "arr = [5, 3, 8, 6, 2, 7, 4, 1]\n",
    "sorted_arr = merge_sort(arr)\n",
    "print(\"Sorted array:\", sorted_arr)\n"
   ]
  },
  {
   "cell_type": "code",
   "execution_count": 11,
   "metadata": {},
   "outputs": [
    {
     "name": "stdout",
     "output_type": "stream",
     "text": [
      "Sorted array: [1, 2, 3, 4, 5, 6, 7, 8]\n"
     ]
    }
   ],
   "source": [
    "# simpler merge\n",
    "\n",
    "\n",
    "def merge_sort(arr):\n",
    "    if len(arr) <= 1:\n",
    "        return arr\n",
    "\n",
    "    mid = len(arr) // 2\n",
    "    left = merge_sort(arr[:mid])\n",
    "    right = merge_sort(arr[mid:])\n",
    "\n",
    "    return sorted(left + right)\n",
    "\n",
    "\n",
    "# Example usage\n",
    "arr = [5, 3, 8, 6, 2, 7, 4, 1]\n",
    "print(\"Sorted array:\", merge_sort(arr))"
   ]
  }
 ],
 "metadata": {
  "kernelspec": {
   "display_name": "Python 3",
   "language": "python",
   "name": "python3"
  },
  "language_info": {
   "codemirror_mode": {
    "name": "ipython",
    "version": 3
   },
   "file_extension": ".py",
   "mimetype": "text/x-python",
   "name": "python",
   "nbconvert_exporter": "python",
   "pygments_lexer": "ipython3",
   "version": "3.12.6"
  }
 },
 "nbformat": 4,
 "nbformat_minor": 2
}
