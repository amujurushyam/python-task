{
 "cells": [
  {
   "cell_type": "code",
   "execution_count": 4,
   "metadata": {},
   "outputs": [],
   "source": [
    "# OOPS---- Onject Oriented Programming System\n",
    "# class is a blueprint for creating objects\n",
    "# object is an instance of a class"
   ]
  },
  {
   "cell_type": "code",
   "execution_count": 5,
   "metadata": {},
   "outputs": [
    {
     "name": "stdout",
     "output_type": "stream",
     "text": [
      "6\n",
      "-1\n",
      "<class '__main__.Calculator'>\n"
     ]
    }
   ],
   "source": [
    "# class---------------------\n",
    "class Calculator:\n",
    "    def sum(self, a, b):\n",
    "        print(a + b)\n",
    "        return a + b\n",
    "\n",
    "    def sub(self, a, b):\n",
    "        print(a - b)\n",
    "        return a - b\n",
    "\n",
    "    def sum(self, a, b):\n",
    "        print(a * b)\n",
    "        return a * b\n",
    "    \n",
    "# object----------------------\n",
    "calc1 = Calculator()\n",
    "calc1.sum(2, 3)\n",
    "calc2 = Calculator()\n",
    "calc2.sub(2, 3)\n",
    "print(type(calc1))"
   ]
  },
  {
   "cell_type": "code",
   "execution_count": null,
   "metadata": {},
   "outputs": [
    {
     "name": "stdout",
     "output_type": "stream",
     "text": [
      "Human object is created\n",
      "Human object is created\n",
      "shyam\n",
      "sumanth\n",
      "shyam 23 04-06-02\n",
      "sumanth 22 17-03-03\n",
      "shyam I am learning\n",
      "sumanth I am learning\n"
     ]
    }
   ],
   "source": [
    "# constructor\n",
    "\n",
    "\n",
    "class Human:\n",
    "    def __init__(self, name1, age1, dob1):\n",
    "        self.name = name1  # instance variable\n",
    "        self.age = age1    # instance variable\n",
    "        self.dob = dob1    # instance variable\n",
    "        print(\"Human object is created\")\n",
    "\n",
    "    def self_intro(self):\n",
    "        print(self.name, self.age, self.dob)\n",
    "\n",
    "    def learn(self):\n",
    "        print(self.name, \"I am learning\")\n",
    "\n",
    "\n",
    "human1 = Human(\"shyam\", 23, \"04-06-02\")\n",
    "human2 = Human(\"sumanth\", 22, \"17-03-03\")\n",
    "\n",
    "print(human1.name)\n",
    "print(human2.name)\n",
    "human1.self_intro()\n",
    "human2.self_intro()\n",
    "human1.learn()\n",
    "human2.learn()\n",
    "# first way\n",
    "\n",
    "# human1.name = \"shyam\"\n",
    "# human1.age = 23\n",
    "# print(human1.name)"
   ]
  }
 ],
 "metadata": {
  "kernelspec": {
   "display_name": "Python 3",
   "language": "python",
   "name": "python3"
  },
  "language_info": {
   "codemirror_mode": {
    "name": "ipython",
    "version": 3
   },
   "file_extension": ".py",
   "mimetype": "text/x-python",
   "name": "python",
   "nbconvert_exporter": "python",
   "pygments_lexer": "ipython3",
   "version": "3.12.6"
  }
 },
 "nbformat": 4,
 "nbformat_minor": 2
}
