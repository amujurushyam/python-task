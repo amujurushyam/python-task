{
 "cells": [
  {
   "cell_type": "code",
   "execution_count": 1,
   "id": "2f05e408-a2fa-4f31-b327-e5b5f2420e36",
   "metadata": {},
   "outputs": [
    {
     "name": "stdout",
     "output_type": "stream",
     "text": [
      "[{'Vamsi': {'V': 1, 'a': 1, 'm': 1, 's': 1, 'i': 1}}, {'Varsha': {'V': 1, 'a': 2, 'r': 1, 's': 1, 'h': 1}}, {'Shyam': {'S': 1, 'h': 1, 'y': 1, 'a': 1, 'm': 1}}]\n"
     ]
    }
   ],
   "source": [
    "list = [\"Vamsi\",\"Varsha\",\"Shyam\"]\n",
    "\n",
    "final_res = []\n",
    "for str in list:\n",
    "    res = {}\n",
    "    for k in str:\n",
    "        if k in res:\n",
    "            res[k] += 1\n",
    "        else:\n",
    "            res[k] = 1\n",
    "    final_res.append({str:res})\n",
    "print(final_res)"
   ]
  },
  {
   "cell_type": "code",
   "execution_count": 5,
   "id": "d2bf0198-c672-4885-b61f-458b86425650",
   "metadata": {},
   "outputs": [
    {
     "name": "stdout",
     "output_type": "stream",
     "text": [
      "1\n",
      "2\n",
      "3\n",
      "4\n",
      "5\n",
      "6\n",
      "7\n",
      "Analytics\n"
     ]
    }
   ],
   "source": [
    "for i in range (1,8):\n",
    " print(i)\n",
    "print(\"Analytics\")"
   ]
  },
  {
   "cell_type": "code",
   "execution_count": 7,
   "id": "5f747ec8-a0b0-4624-a34f-ad1691f03f21",
   "metadata": {},
   "outputs": [
    {
     "name": "stdout",
     "output_type": "stream",
     "text": [
      "hello shyam\n"
     ]
    }
   ],
   "source": [
    "def say_hii():\n",
    "    print(\"hello shyam\")\n",
    "say_hii()"
   ]
  },
  {
   "cell_type": "code",
   "execution_count": 1,
   "id": "ec985f69-4edc-481d-b87b-beae42dcb09e",
   "metadata": {},
   "outputs": [
    {
     "name": "stdout",
     "output_type": "stream",
     "text": [
      "Duplicate elements: [1, 2, 3]\n"
     ]
    }
   ],
   "source": [
    "def find_duplicates(lst):\n",
    "    # Create an empty set to store seen elements\n",
    "    seen = set()\n",
    "    # Create an empty set to store duplicates\n",
    "    duplicates = set()\n",
    "    \n",
    "    # Iterate through each element in the list\n",
    "    for item in lst:\n",
    "        # If the item is already in the 'seen' set, add it to the 'duplicates' set\n",
    "        if item in seen:\n",
    "            duplicates.add(item)\n",
    "        else:\n",
    "            # Otherwise, add the item to the 'seen' set\n",
    "            seen.add(item)\n",
    "    \n",
    "    return list(duplicates)\n",
    "\n",
    "# Example usage\n",
    "my_list = [1, 2, 3, 4, 5, 2, 3, 6, 7, 8, 1]\n",
    "print(\"Duplicate elements:\", find_duplicates(my_list))\n"
   ]
  },
  {
   "cell_type": "code",
   "execution_count": 3,
   "id": "c4fe0ad8-03b1-485d-b323-58f48524e35a",
   "metadata": {},
   "outputs": [
    {
     "name": "stdout",
     "output_type": "stream",
     "text": [
      "Unique elements: [1, 2, 3, 4, 5, 6, 7, 8]\n"
     ]
    }
   ],
   "source": [
    "def find_unique_elements(lst):\n",
    "    # Create a set to store unique elements\n",
    "    unique_elements = set()\n",
    "    \n",
    "    # Iterate through each element in the list\n",
    "    for item in lst:\n",
    "        # Add the item to the set\n",
    "        unique_elements.add(item)\n",
    "    \n",
    "    # Convert the set back to a list to return\n",
    "    return list(unique_elements)\n",
    "\n",
    "# Example usage\n",
    "my_list = [1, 2, 3, 4, 5, 2, 3, 6, 7, 8, 1]\n",
    "print(\"Unique elements:\", find_unique_elements(my_list))\n"
   ]
  },
  {
   "cell_type": "code",
   "execution_count": 1,
   "id": "4ab4bc39-53ba-459e-bcc6-2c5a675469a5",
   "metadata": {},
   "outputs": [
    {
     "name": "stdout",
     "output_type": "stream",
     "text": [
      "Not found\n"
     ]
    }
   ],
   "source": [
    "search_element = int(input(\"Enter a number :\"))\n",
    "list1 = [1 , 2, 10, 32, 75, 89, 100]\n",
    "\n",
    "def binary_search(list1, search_element):\n",
    "    low = 0\n",
    "    high = len(list1) - 1\n",
    "    while low <= high:\n",
    "        mid = int((low + high)/ 2)\n",
    "        if list1[mid] == search_element:\n",
    "            return mid\n",
    "        elif list1[mid] > search_element:\n",
    "            high = mid - 1\n",
    "        else:\n",
    "            low = mid + 1\n",
    "    return -1\n",
    "\n",
    "list2 = [1 , 2, 10, 32, 75, 89, 100]\n",
    "\n",
    "res = binary_search(list2, search_element)\n",
    "\n",
    "if res != -1:\n",
    "    print(res)\n",
    "else:\n",
    "    print(\"Not found\") "
   ]
  },
  {
   "cell_type": "code",
   "execution_count": 2,
   "id": "62b81a73",
   "metadata": {},
   "outputs": [
    {
     "name": "stdout",
     "output_type": "stream",
     "text": [
      "5\n"
     ]
    }
   ],
   "source": [
    "# binary search -- it can be performed only on a sorted list\n",
    "\n",
    "search_element = int(input(\"Enter a number :\"))\n",
    "list1 = [1 , 2, 10, 32, 75, 89, 100]\n",
    "low = 0\n",
    "high = len(list1) - 1\n",
    "\n",
    "\n",
    "flag = False\n",
    "while low <= high:\n",
    "    mid = int((low + high)/ 2)\n",
    "    if list1[mid] == search_element:\n",
    "        flag = True\n",
    "        print(mid)\n",
    "        break\n",
    "    elif list1[mid] > search_element:\n",
    "        high = mid - 1\n",
    "    else:\n",
    "        low = mid + 1\n",
    "\n",
    "\n",
    "if flag == False:\n",
    "    print(\"Not found\")\n"
   ]
  },
  {
   "cell_type": "code",
   "execution_count": 3,
   "id": "8eaabba0",
   "metadata": {},
   "outputs": [
    {
     "name": "stdout",
     "output_type": "stream",
     "text": [
      "[32, -5, 45, 92, 99, 65, 11, 101]\n",
      "[-5, 32, 45, 92, 65, 11, 99, 101]\n",
      "[-5, 32, 45, 65, 11, 92, 99, 101]\n",
      "[-5, 32, 45, 11, 65, 92, 99, 101]\n",
      "[-5, 32, 11, 45, 65, 92, 99, 101]\n",
      "[-5, 11, 32, 45, 65, 92, 99, 101]\n",
      "[-5, 11, 32, 45, 65, 92, 99, 101]\n"
     ]
    }
   ],
   "source": [
    "list1 = [45, 32, -5, 92, 99, 101, 65, 11]\n",
    "\n",
    "for j in range(len(list1)-1):\n",
    "    for i in range (0, len(list1)-1):\n",
    "        if list1[i] > list1[i+1]:\n",
    "            list1[i], list1[i+1] = list1 [i+1], list1[i]\n",
    "    print(list1)"
   ]
  }
 ],
 "metadata": {
  "kernelspec": {
   "display_name": "Python 3",
   "language": "python",
   "name": "python3"
  },
  "language_info": {
   "codemirror_mode": {
    "name": "ipython",
    "version": 3
   },
   "file_extension": ".py",
   "mimetype": "text/x-python",
   "name": "python",
   "nbconvert_exporter": "python",
   "pygments_lexer": "ipython3",
   "version": "3.12.6"
  }
 },
 "nbformat": 4,
 "nbformat_minor": 5
}
