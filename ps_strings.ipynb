{
 "cells": [
  {
   "cell_type": "code",
   "execution_count": 2,
   "metadata": {},
   "outputs": [
    {
     "name": "stdout",
     "output_type": "stream",
     "text": [
      "a + b -  d  b - { e  f }\n"
     ]
    }
   ],
   "source": [
    "str1 = \"a + b - ( d * b - { e / f })\"\n",
    "output_str = \"\"\n",
    "\n",
    "for i in str1:\n",
    "    if i == \"(\" or i == \")\" or i == \"*\" or i == \"/\":\n",
    "        pass\n",
    "    else:\n",
    "        output_str += i\n",
    "print(output_str)"
   ]
  },
  {
   "cell_type": "code",
   "execution_count": 3,
   "metadata": {},
   "outputs": [
    {
     "name": "stdout",
     "output_type": "stream",
     "text": [
      "a + b -  d  b - { e  f }a + b -  d * b -  e / f \n"
     ]
    }
   ],
   "source": [
    "for i in str1:\n",
    "    if i not in \"()[]{}\":\n",
    "        output_str += i\n",
    "print(output_str)"
   ]
  },
  {
   "cell_type": "code",
   "execution_count": null,
   "metadata": {},
   "outputs": [
    {
     "name": "stdout",
     "output_type": "stream",
     "text": [
      "Is palindrome: True\n"
     ]
    }
   ],
   "source": [
    "def is_palindrome(s):\n",
    "    s = s.lower().replace(\" \", \"\")\n",
    "    return s == s[::-1]\n",
    "\n",
    "\n",
    "word = \"madam\"\n",
    "print(\"Is palindrome:\", is_palindrome(word))"
   ]
  },
  {
   "cell_type": "code",
   "execution_count": null,
   "metadata": {},
   "outputs": [
    {
     "name": "stdout",
     "output_type": "stream",
     "text": [
      "Vowels: 3 7 3\n"
     ]
    }
   ],
   "source": [
    "def count_vowels_consonants_spaces(s):\n",
    "    v = sum(c in \"aeiouAEIOU\" for c in s)\n",
    "    c = sum(c.isalpha() and c not in \"aeiouAEIOU\" for c in s)\n",
    "    return v, c, s.count(\" \")\n",
    "\n",
    "\n",
    "text = \"Hello World\"\n",
    "print(\"Vowels:\", *count_vowels_consonants_spaces(text))"
   ]
  },
  {
   "cell_type": "code",
   "execution_count": null,
   "metadata": {},
   "outputs": [
    {
     "name": "stdout",
     "output_type": "stream",
     "text": [
      "Is palindrome\n"
     ]
    }
   ],
   "source": [
    "# palindrome ----------- approach(1)\n",
    "\n",
    "str1 = \"mom\"\n",
    "rev_str = \"\"\n",
    "for i in str1:\n",
    "    rev_str = i + rev_str\n",
    "\n",
    "if str1 == rev_str:\n",
    "    print(\"Is palindrome\")\n",
    "else:\n",
    "    print(\"Not palindrome\")"
   ]
  },
  {
   "cell_type": "code",
   "execution_count": 2,
   "metadata": {},
   "outputs": [
    {
     "name": "stdout",
     "output_type": "stream",
     "text": [
      "Is palindrome\n"
     ]
    }
   ],
   "source": [
    "# appraoch(2)------------\n",
    "# MALAYALAM\n",
    "\n",
    "str1 = \"MALAYALAM\"\n",
    "low = 0\n",
    "high = len(str1) - 1\n",
    "flag = True\n",
    "while low < high:\n",
    "    if str1[low] == str1[high]:\n",
    "        low += 1\n",
    "        high -= 1\n",
    "    else:\n",
    "        flag = False\n",
    "        print(\"Not palindrome\")\n",
    "        break\n",
    "if flag:\n",
    "    print(\"Is palindrome\")"
   ]
  },
  {
   "cell_type": "code",
   "execution_count": null,
   "metadata": {},
   "outputs": [
    {
     "data": {
      "text/plain": [
       "True"
      ]
     },
     "execution_count": 5,
     "metadata": {},
     "output_type": "execute_result"
    }
   ],
   "source": [
    "# approach(3)------------\n",
    "\n",
    "def check_palindrome(str1):\n",
    "    low = 0\n",
    "    high = len(str1) - 1\n",
    "    while low < high:\n",
    "        if str1[low] == str1[high]:\n",
    "            low += 1\n",
    "            high -= 1\n",
    "        else:\n",
    "            return False\n",
    "    return True\n",
    "\n",
    "\n",
    "check_palindrome(\"madam\")"
   ]
  },
  {
   "cell_type": "code",
   "execution_count": 7,
   "metadata": {},
   "outputs": [
    {
     "name": "stdout",
     "output_type": "stream",
     "text": [
      "eoo\n"
     ]
    }
   ],
   "source": [
    "# print non repeated vowels\n",
    "str1 = \"hello world\"\n",
    "vowels = \"aeiou\"\n",
    "output_str = \"\"\n",
    "for i in str1:\n",
    "    if i in vowels:\n",
    "        output_str += i\n",
    "print(output_str)"
   ]
  },
  {
   "cell_type": "code",
   "execution_count": 4,
   "metadata": {},
   "outputs": [
    {
     "name": "stdout",
     "output_type": "stream",
     "text": [
      "wlcm smnth t th clss ftr mny dys\n"
     ]
    }
   ],
   "source": [
    "# remove vowels\n",
    "\n",
    "str1 = \"WElcome sumanth to the class after many days\".lower()\n",
    "res_str = \"\"\n",
    "\n",
    "for i in str1:\n",
    "    if i not in \"aeiou\":\n",
    "        res_str += i\n",
    "print(res_str)"
   ]
  },
  {
   "cell_type": "code",
   "execution_count": null,
   "metadata": {},
   "outputs": [
    {
     "name": "stdout",
     "output_type": "stream",
     "text": [
      "syd ynm rtf sslc ht t htnms mclw\n"
     ]
    }
   ],
   "source": [
    "# remove vowels and reverse them\n",
    "\n",
    "str1 = \"WElcome sumanth to the class after many days\".lower()\n",
    "res_str = \"\"\n",
    "\n",
    "for i in str1:\n",
    "    if i not in \"aeiou\":\n",
    "        res_str = i + res_str\n",
    "print(res_str)"
   ]
  },
  {
   "cell_type": "code",
   "execution_count": 15,
   "metadata": {},
   "outputs": [
    {
     "name": "stdout",
     "output_type": "stream",
     "text": [
      "sumanthgunnam\n"
     ]
    }
   ],
   "source": [
    "# find the largest word in the string\n",
    "\n",
    "str1 = \"google document sumanthgunnam\"\n",
    "max_word = \"\"\n",
    "max_len = 0\n",
    "for i in str1.split():\n",
    "    if len(i) > max_len:\n",
    "        max_len = len(i)\n",
    "        max_word = i\n",
    "print(max_word)"
   ]
  },
  {
   "cell_type": "code",
   "execution_count": null,
   "metadata": {},
   "outputs": [
    {
     "name": "stdout",
     "output_type": "stream",
     "text": [
      "a\n",
      "abccba\n",
      "b\n",
      "bccb\n",
      "c\n",
      "cc\n",
      "c\n",
      "b\n",
      "a\n"
     ]
    }
   ],
   "source": [
    "str1 = \"abccba\"\n",
    "\n",
    "\n",
    "def check_palindrome(str1):\n",
    "    return str1 == str1[::-1]\n",
    "\n",
    "\n",
    "for i in range(len(str1)):\n",
    "    for j in range(i + 1, len(str1) + 1):\n",
    "        sub_str = str1[i:j]\n",
    "        if check_palindrome(sub_str):\n",
    "            print(sub_str)"
   ]
  }
 ],
 "metadata": {
  "kernelspec": {
   "display_name": "Python 3",
   "language": "python",
   "name": "python3"
  },
  "language_info": {
   "codemirror_mode": {
    "name": "ipython",
    "version": 3
   },
   "file_extension": ".py",
   "mimetype": "text/x-python",
   "name": "python",
   "nbconvert_exporter": "python",
   "pygments_lexer": "ipython3",
   "version": "3.12.6"
  }
 },
 "nbformat": 4,
 "nbformat_minor": 2
}
